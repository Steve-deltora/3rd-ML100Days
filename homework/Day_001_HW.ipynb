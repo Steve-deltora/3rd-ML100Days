{
 "cells": [
  {
   "cell_type": "markdown",
   "metadata": {},
   "source": [
    "## 練習時間\n",
    "#### 請寫一個函式用來計算 Mean Square Error\n",
    "$ MSE = \\frac{1}{n}\\sum_{i=1}^{n}{(Y_i - \\hat{Y}_i)^2} $\n",
    "\n",
    "### Hint: [如何取平方](https://googoodesign.gitbooks.io/-ezpython/unit-1.html)"
   ]
  },
  {
   "cell_type": "markdown",
   "metadata": {},
   "source": [
    "# [作業目標]\n",
    "- 仿造範例的MAE函數, 自己寫一個MSE函數(參考上面公式)"
   ]
  },
  {
   "cell_type": "markdown",
   "metadata": {},
   "source": [
    "# [作業重點]\n",
    "- 注意程式的縮排\n",
    "- 是否能將數學公式, 轉換為 Python 的函式組合? (In[2], Out[2])"
   ]
  },
  {
   "cell_type": "code",
   "execution_count": 6,
   "metadata": {},
   "outputs": [],
   "source": [
    "# 載入基礎套件與代稱\n",
    "import numpy as np\n",
    "import matplotlib.pyplot as plt"
   ]
  },
  {
   "cell_type": "code",
   "execution_count": 12,
   "metadata": {},
   "outputs": [],
   "source": [
    "def mean_absolute_error(y, yp):\n",
    "    \"\"\"\n",
    "    計算 MAE\n",
    "    Args:\n",
    "        - y: 實際值\n",
    "        - yp: 預測值\n",
    "    Return:\n",
    "        - mae: MAE\n",
    "    \"\"\"\n",
    "    mae = MAE = sum(abs(y - yp)) / len(y)\n",
    "    return mae\n",
    "\n",
    "# 定義 mean_squared_error 這個函數, 計算並傳回 MSE\n",
    "def mean_squared_error(y, yp):\n",
    "    \n",
    "    # MSE : 將兩個陣列相減後, 取絕對值(abs), 再將整個陣列加總成一個數字(sum), 最後除以y的長度(len), 因此稱為\"平均平方誤差\"\n",
    "    MSE = sum((y - yp)**2) / len(y)\n",
    "    return MSE\n"
   ]
  },
  {
   "cell_type": "code",
   "execution_count": 13,
   "metadata": {},
   "outputs": [
    {
     "data": {
      "image/png": "[encoded data removed]",
      "text/plain": [
       "<Figure size 432x288 with 1 Axes>"
      ]
     },
     "metadata": {
      "needs_background": "light"
     },
     "output_type": "display_data"
    }
   ],
   "source": [
    "# 與範例相同, 不另外解說\n",
    "w = 3\n",
    "b = 0.5\n",
    "x_lin = np.linspace(0, 100, 101)\n",
    "y = (x_lin + np.random.randn(101) * 5) * w + b\n",
    "\n",
    "plt.plot(x_lin, y, 'b.', label = 'data points')\n",
    "plt.title(\"Assume we have data points\")\n",
    "plt.legend(loc = 2)\n",
    "plt.show()"
   ]
  },
  {
   "cell_type": "code",
   "execution_count": 14,
   "metadata": {},
   "outputs": [
    {
     "data": {
      "image/png": "[encoded data removed]",
      "text/plain": [
       "<Figure size 432x288 with 1 Axes>"
      ]
     },
     "metadata": {
      "needs_background": "light"
     },
     "output_type": "display_data"
    }
   ],
   "source": [
    "# 與範例相同, 不另外解說\n",
    "y_hat = x_lin * w + b\n",
    "plt.plot(x_lin, y, 'b.', label = 'data')\n",
    "plt.plot(x_lin, y_hat, 'r-', label = 'prediction')\n",
    "plt.title(\"Assume we have data points (And the prediction)\")\n",
    "plt.legend(loc = 2)\n",
    "plt.show()"
   ]
  },
  {
   "cell_type": "code",
   "execution_count": 15,
   "metadata": {
    "scrolled": false
   },
   "outputs": [
    {
     "name": "stdout",
     "output_type": "stream",
     "text": [
      "The Mean squared error is 211.068\n",
      "The Mean absolute error is 11.784\n"
     ]
    }
   ],
   "source": [
    "# 執行 Function, 確認有沒有正常執行\n",
    "MSE = mean_squared_error(y, y_hat)\n",
    "MAE = mean_absolute_error(y, y_hat)\n",
    "print(\"The Mean squared error is %.3f\" % (MSE))\n",
    "print(\"The Mean absolute error is %.3f\" % (MAE))"
   ]
  },
  {
   "cell_type": "raw",
   "metadata": {},
   "source": [
    "# [作業2]\n",
    "\n",
    "請上 Kaggle, 在 Competitions 或 Dataset 中找一組競賽或資料並寫下：\n",
    "\n",
    "New York City Airbnb Open Data\n",
    "https://www.kaggle.com/dgomonov/new-york-city-airbnb-open-data\n",
    "\n",
    "1.\t你選的這組資料為何重要\n",
    "    了解airbnb的所提供房子的類型結構\n",
    "2.\t資料從何而來 (tips: 譬如提供者是誰、以什麼方式蒐集)\n",
    "    Airbnb公開\n",
    "3.\t蒐集而來的資料型態為何\n",
    "Id listing代號 ID 整數\n",
    "Name特色 name of the listing 文字\n",
    "host_id代號 host ID整數\n",
    "host_name屋主名子 name of the host文字\n",
    "neighbourhood地點(大範圍)group location文字\n",
    "neighbourhood地點(小範圍) area 文字\n",
    "latitude緯度 latitude coordinates整數\n",
    "longitude經度 longitude coordinates整數\n",
    "room_type房間規格 listing space type 文字\n",
    "price房價 price in dollars整數\n",
    "minimum_nights房客住的最短天數 amount of nights minimum整數\n",
    "number_of_reviews查看次數 number of reviews整數\n",
    "last_review上次查看的日期 latest review 日期\n",
    "reviews_per_month觀看頻率(月) number of reviews per month整數\n",
    "calculated_host_listings_count \tamount of listing per host整數\n",
    "availability_365 一年中可訂房的天數number of days when listing is available for booking整數\n",
    "4. 這組資料想解決的問題如何評估\n",
    "\t空房率:在需求高的地點(查看次數/緯度資料)，屋主的金額是否定的合理\n",
    "\n",
    "# [作業3]\n",
    "\n",
    "想像你經營一個自由載客車隊，你希望能透過數據分析以提升業績，請你思考並描述你如何規劃整體的分析/解決方案：\n",
    "\n",
    "\n",
    "1.\t核心問題為何 (tips：如何定義 「提升業績 & 你的假設」)\n",
    "        a.\t如何提升載客率?(要盡量減少一個乘客搭一部車的情況，這樣只會讓交通更加壅塞)\n",
    "        b.\t抽多少 才有最大效益?(太少 難以回本、太多 司機就會轉而跟其他競爭者合作)\n",
    "        c.\t搭車費要訂多少 才有最大效益?(太少 難以回本、太多 不會有乘客)\n",
    "2.\t資料從何而來 (tips：哪些資料可能會對你想問的問題產生影響 & 資料如何蒐集)\n",
    "\n",
    "    App:\n",
    "\t\t乘客方: 個人資料/搭乘後的回饋\n",
    "\t\t司機方: 上傳行車資料\n",
    "3. 蒐集而來的資料型態為何\n",
    "\tint年紀\n",
    "\tint (male 0/ female 1)性別\n",
    "\tint回頭率 \n",
    "\tint(1-5)每次搭乘滿意度\n",
    "\tint乘客等待時間\n",
    "\tint到達目的所花的時間\n",
    "\tstring你為何想當司機\n",
    "4. 你要回答的問題，其如何評估 (tips：你的假設如何驗證)\n",
    "如何提升載客率?\n",
    "    根據供需法則，如果在車上的人在搭車期間同意多載客人則可以降低這次搭乘費用，相反的如果再等待的乘客願意跟他人共乘也可以降低價格。\n",
    "    抽多少 才有最大效益?\n",
    "    根據當司機的理由來調整，當司機投入越多時間在幫你載客時，任何的調整都會對他們造成影響。反之，當司機只是偶爾載客時，\n",
    "    對調整的容忍空間會比較多。\n",
    "搭車費要訂多少 才有最大效益?\n",
    "\t  不常搭:貴的話回頭率不高\n",
    "\t  常搭:容易受到價格調整影響\n"
   ]
  }
 ],
 "metadata": {
  "anaconda-cloud": {},
  "kernelspec": {
   "display_name": "Python 3",
   "language": "python",
   "name": "python3"
  },
  "language_info": {
   "codemirror_mode": {
    "name": "ipython",
    "version": 3
   },
   "file_extension": ".py",
   "mimetype": "text/x-python",
   "name": "python",
   "nbconvert_exporter": "python",
   "pygments_lexer": "ipython3",
   "version": "3.7.3"
  }
 },
 "nbformat": 4,
 "nbformat_minor": 1
}
